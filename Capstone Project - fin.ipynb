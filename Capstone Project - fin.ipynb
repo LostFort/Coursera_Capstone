{
    "nbformat_minor": 1, 
    "cells": [
        {
            "source": "# Segmenting and Clustering Neighborhoods in London\n", 
            "cell_type": "markdown", 
            "metadata": {
                "collapsed": true
            }
        }, 
        {
            "source": "## Applied Data Science Capstone - complete report\nby R. Shen on 9 Sept., 2019; special thanks to [Arvind Saigal](https://github.com/saigalarvind) & [Jason L Urquhart](https://github.com/JasonLUrquhart)", 
            "cell_type": "markdown", 
            "metadata": {}
        }, 
        {
            "source": "## Introduction to the opportunity", 
            "cell_type": "markdown", 
            "metadata": {}
        }, 
        {
            "source": "from IPython.display import Image\nfrom IPython.core.display import HTML \nImage(url= \"https://images.unsplash.com/photo-1505761671935-60b3a7427bad?ixlib=rb-1.2.1&ixid=eyJhcHBfaWQiOjEyMDd9&w=1000&q=80\")", 
            "cell_type": "code", 
            "execution_count": 1, 
            "outputs": [
                {
                    "output_type": "execute_result", 
                    "metadata": {}, 
                    "data": {
                        "text/plain": "<IPython.core.display.Image object>", 
                        "text/html": "<img src=\"https://images.unsplash.com/photo-1505761671935-60b3a7427bad?ixlib=rb-1.2.1&ixid=eyJhcHBfaWQiOjEyMDd9&w=1000&q=80\"/>"
                    }, 
                    "execution_count": 1
                }
            ], 
            "metadata": {}
        }, 
        {
            "source": "People of all kinds from around the world flock to London, UK with some of these them aspiring to make this remarkable place a home of their own. With varying budgets and needs, people find it very hard to find a suitable place and neighborhood to accommodate them and their families. Due to high cost of living and other multiple issues, London housing has been struggling. With the inevitable Brexit, the problem has further compounded. A potential client aspiring to buy a suitable property would like to become knowledgeable about the ongoing pricing to make a concious decision. Further, he/ she would like to consider several factors like proximity to schools, medical care, restaurants to accommodate his/ her familial needs.\n\nWith government provided authentic data on London properties coupled with data science techniques, one can make derive the useful information about current pricing in different localities of London while considering other factors of his choice. This would help the potential client to make an informed decision about buying a suitable property. \n", 
            "cell_type": "markdown", 
            "metadata": {}
        }, 
        {
            "source": "There will be a group of potential investors and clients seeking to purchase an appropriate property in London however are highly skeptical due to a lack of knowledge of the volatile market conditions as well as the potential impact of Brexit, especially in a no-deal scenario.", 
            "cell_type": "markdown", 
            "metadata": {}
        }, 
        {
            "source": "The stakeholders include HM Government, Property sellers, Clients / investors and real estate agents.", 
            "cell_type": "markdown", 
            "metadata": {}
        }, 
        {
            "source": "## Datasets used", 
            "cell_type": "markdown", 
            "metadata": {}
        }, 
        {
            "source": "- HM Land Registry: Price paid data \n    - _Open Data published by Government of UK_\n    - Price Paid Data includes information on all property sales in England and Wales that are sold for full market value and are lodged with us for registration.\n    - The dataset includes the transactions received at HM Land Registry in the lastest period (June 2019)\n    - The dataset was downloaded ahead of time for convenience.\n\n- Google Maps Geocoding API  \n    - _Google Cloud Platform/ Google Maps_\n    - Location coordinates obtained by Gmaps API calls.\n    - Location Information obtained from Price Paid Dataset is used to obtain the location coordinates from Google Maps.\n    - A separate Python script has been developed to extract the unique street names, district names from the Price Paid Dataset and embed those in the GMaps API calls to obtain the required information.\n- Foursquare location data  \n    - _Foursquare location data_\n    - Location coordinates obtained by Foursquare API calls.\n    - To determine the proximity of various amenities as per the client\u2019s requirement, Foursquare location data is used.\n", 
            "cell_type": "markdown", 
            "metadata": {}
        }, 
        {
            "source": "## Methodology\n1. **Loading each data set**\n2. **Examine the price paid by neighbourhood**\n3. **Study the property types and then pivot analysis by neighbourhood**\n4. **Understand correlation between various parameters**\n5. **Perform k-means statisical analysis on venues by locations of interest based on findings from prices and neighbourhood**\n6. **Determine which venues are most common statistically in the region of greatest investment value then in all other locations of interest.**\n7. **Determine if an area, would worth investment**", 
            "cell_type": "markdown", 
            "metadata": {}
        }, 
        {
            "source": "import os # Operating System\nimport numpy as np\nimport pandas as pd\nimport datetime as dt # Datetime\nimport json # library to handle JSON files\nimport requests\n\n!pip install geopy\nfrom geopy.geocoders import Nominatim # convert an address into latitude and longitude values\n\nimport requests # library to handle requests\nfrom pandas.io.json import json_normalize # tranform JSON file into a pandas dataframe\n\n# Matplotlib and associated plotting modules\nimport matplotlib.cm as cm\nimport matplotlib.colors as colors\n\n!pip install folium\nimport folium #import folium # map rendering library\n\nprint('Libraries imported.')", 
            "cell_type": "code", 
            "execution_count": 2, 
            "outputs": [
                {
                    "output_type": "stream", 
                    "name": "stdout", 
                    "text": "Requirement already satisfied: geopy in /opt/conda/envs/Python36/lib/python3.6/site-packages (1.18.1)\nRequirement already satisfied: geographiclib<2,>=1.49 in /opt/conda/envs/Python36/lib/python3.6/site-packages (from geopy) (1.49)\nRequirement already satisfied: folium in /opt/conda/envs/Python36/lib/python3.6/site-packages (0.10.0)\nRequirement already satisfied: jinja2>=2.9 in /opt/conda/envs/Python36/lib/python3.6/site-packages (from folium) (2.10)\nRequirement already satisfied: branca>=0.3.0 in /opt/conda/envs/Python36/lib/python3.6/site-packages (from folium) (0.3.1)\nRequirement already satisfied: numpy in /opt/conda/envs/Python36/lib/python3.6/site-packages (from folium) (1.15.4)\nRequirement already satisfied: requests in /opt/conda/envs/Python36/lib/python3.6/site-packages (from folium) (2.21.0)\nRequirement already satisfied: MarkupSafe>=0.23 in /opt/conda/envs/Python36/lib/python3.6/site-packages (from jinja2>=2.9->folium) (1.1.0)\nRequirement already satisfied: six in /opt/conda/envs/Python36/lib/python3.6/site-packages (from branca>=0.3.0->folium) (1.12.0)\nRequirement already satisfied: certifi>=2017.4.17 in /opt/conda/envs/Python36/lib/python3.6/site-packages (from requests->folium) (2019.6.16)\nRequirement already satisfied: chardet<3.1.0,>=3.0.2 in /opt/conda/envs/Python36/lib/python3.6/site-packages (from requests->folium) (3.0.4)\nRequirement already satisfied: urllib3<1.25,>=1.21.1 in /opt/conda/envs/Python36/lib/python3.6/site-packages (from requests->folium) (1.24.1)\nRequirement already satisfied: idna<2.9,>=2.5 in /opt/conda/envs/Python36/lib/python3.6/site-packages (from requests->folium) (2.8)\nLibraries imported.\n"
                }
            ], 
            "metadata": {}
        }, 
        {
            "source": "import types\nfrom botocore.client import Config\nimport ibm_boto3\n\ndef __iter__(self): return 0\n\n# @hidden_cell\n# The following code accesses a file in your IBM Cloud Object Storage. It includes your credentials.\n# You might want to remove those credentials before you share the notebook.\nclient_ebbc1554a11144158122a412ce1905fc = ibm_boto3.client(service_name='s3',\n    ibm_api_key_id='IQKOTWUJUElGha52i5hkNHbC0h_6bjvRLuiCYII-S6Uq',\n    ibm_auth_endpoint=\"https://iam.eu-gb.bluemix.net/oidc/token\",\n    config=Config(signature_version='oauth'),\n    endpoint_url='https://s3.eu-geo.objectstorage.service.networklayer.com')\n\nbody = client_ebbc1554a11144158122a412ce1905fc.get_object(Bucket='courseracapstone-donotdelete-pr-0akotni5ciarwz',Key='ppd_data.csv')['Body']\n# add missing __iter__ method, so pandas accepts body as file-like object\nif not hasattr(body, \"__iter__\"): body.__iter__ = types.MethodType( __iter__, body )\n\ndf_ppd = pd.read_csv(body)\ndf_ppd.head()", 
            "cell_type": "code", 
            "execution_count": 3, 
            "outputs": [
                {
                    "output_type": "execute_result", 
                    "metadata": {}, 
                    "data": {
                        "text/html": "<div>\n<style scoped>\n    .dataframe tbody tr th:only-of-type {\n        vertical-align: middle;\n    }\n\n    .dataframe tbody tr th {\n        vertical-align: top;\n    }\n\n    .dataframe thead th {\n        text-align: right;\n    }\n</style>\n<table border=\"1\" class=\"dataframe\">\n  <thead>\n    <tr style=\"text-align: right;\">\n      <th></th>\n      <th>unique_id</th>\n      <th>price_paid</th>\n      <th>deed_date</th>\n      <th>postcode</th>\n      <th>property_type</th>\n      <th>new_build</th>\n      <th>estate_type</th>\n      <th>saon</th>\n      <th>paon</th>\n      <th>street</th>\n      <th>...</th>\n      <th>L</th>\n      <th>FLAT 6</th>\n      <th>BILL FAUST HOUSE, 20</th>\n      <th>TARLING STREET</th>\n      <th>Unnamed: 25</th>\n      <th>LONDON</th>\n      <th>TOWER HAMLETS</th>\n      <th>GREATER LONDON</th>\n      <th>A</th>\n      <th>http://landregistry.data.gov.uk/data/ppi/transaction/8A78B2AF-785C-5CB0-E053-6B04A8C0F504/current</th>\n    </tr>\n  </thead>\n  <tbody>\n    <tr>\n      <th>0</th>\n      <td>85866A65-8ED3-143F-E053-6B04A8C06A15</td>\n      <td>400000</td>\n      <td>2019-03-06</td>\n      <td>E1 0AS</td>\n      <td>F</td>\n      <td>N</td>\n      <td>L</td>\n      <td>FLAT 19</td>\n      <td>VOGLER HOUSE</td>\n      <td>CABLE STREET</td>\n      <td>...</td>\n      <td>NaN</td>\n      <td>NaN</td>\n      <td>NaN</td>\n      <td>NaN</td>\n      <td>NaN</td>\n      <td>NaN</td>\n      <td>NaN</td>\n      <td>NaN</td>\n      <td>NaN</td>\n      <td>NaN</td>\n    </tr>\n    <tr>\n      <th>1</th>\n      <td>8A78B2AF-77E3-5CB0-E053-6B04A8C0F504</td>\n      <td>400000</td>\n      <td>2019-05-21</td>\n      <td>E1 0BJ</td>\n      <td>F</td>\n      <td>N</td>\n      <td>L</td>\n      <td>FLAT 11</td>\n      <td>BROCKMER HOUSE</td>\n      <td>CROWDER STREET</td>\n      <td>...</td>\n      <td>NaN</td>\n      <td>NaN</td>\n      <td>NaN</td>\n      <td>NaN</td>\n      <td>NaN</td>\n      <td>NaN</td>\n      <td>NaN</td>\n      <td>NaN</td>\n      <td>NaN</td>\n      <td>NaN</td>\n    </tr>\n    <tr>\n      <th>2</th>\n      <td>8CAC1318-268A-0253-E053-6B04A8C08E51</td>\n      <td>432500</td>\n      <td>2019-06-03</td>\n      <td>E1 0DF</td>\n      <td>F</td>\n      <td>N</td>\n      <td>L</td>\n      <td>NaN</td>\n      <td>88</td>\n      <td>SOLANDER GARDENS</td>\n      <td>...</td>\n      <td>NaN</td>\n      <td>NaN</td>\n      <td>NaN</td>\n      <td>NaN</td>\n      <td>NaN</td>\n      <td>NaN</td>\n      <td>NaN</td>\n      <td>NaN</td>\n      <td>NaN</td>\n      <td>NaN</td>\n    </tr>\n    <tr>\n      <th>3</th>\n      <td>8A78B2AF-77F2-5CB0-E053-6B04A8C0F504</td>\n      <td>415000</td>\n      <td>2019-03-29</td>\n      <td>E1 0EA</td>\n      <td>F</td>\n      <td>N</td>\n      <td>L</td>\n      <td>NaN</td>\n      <td>32</td>\n      <td>DEVONPORT STREET</td>\n      <td>...</td>\n      <td>NaN</td>\n      <td>NaN</td>\n      <td>NaN</td>\n      <td>NaN</td>\n      <td>NaN</td>\n      <td>NaN</td>\n      <td>NaN</td>\n      <td>NaN</td>\n      <td>NaN</td>\n      <td>NaN</td>\n    </tr>\n    <tr>\n      <th>4</th>\n      <td>87E1551D-DB6D-6405-E053-6C04A8C0B2EE</td>\n      <td>160000</td>\n      <td>2019-03-28</td>\n      <td>E1 0HR</td>\n      <td>F</td>\n      <td>N</td>\n      <td>L</td>\n      <td>FLAT 4</td>\n      <td>ROSEA HOUSE, 4</td>\n      <td>BOULCOTT STREET</td>\n      <td>...</td>\n      <td>NaN</td>\n      <td>NaN</td>\n      <td>NaN</td>\n      <td>NaN</td>\n      <td>NaN</td>\n      <td>NaN</td>\n      <td>NaN</td>\n      <td>NaN</td>\n      <td>NaN</td>\n      <td>NaN</td>\n    </tr>\n  </tbody>\n</table>\n<p>5 rows \u00d7 31 columns</p>\n</div>", 
                        "text/plain": "                              unique_id  price_paid   deed_date postcode  \\\n0  85866A65-8ED3-143F-E053-6B04A8C06A15      400000  2019-03-06   E1 0AS   \n1  8A78B2AF-77E3-5CB0-E053-6B04A8C0F504      400000  2019-05-21   E1 0BJ   \n2  8CAC1318-268A-0253-E053-6B04A8C08E51      432500  2019-06-03   E1 0DF   \n3  8A78B2AF-77F2-5CB0-E053-6B04A8C0F504      415000  2019-03-29   E1 0EA   \n4  87E1551D-DB6D-6405-E053-6C04A8C0B2EE      160000  2019-03-28   E1 0HR   \n\n  property_type new_build estate_type     saon            paon  \\\n0             F         N           L  FLAT 19    VOGLER HOUSE   \n1             F         N           L  FLAT 11  BROCKMER HOUSE   \n2             F         N           L      NaN              88   \n3             F         N           L      NaN              32   \n4             F         N           L   FLAT 4  ROSEA HOUSE, 4   \n\n             street  ...   L FLAT 6 BILL FAUST HOUSE, 20 TARLING STREET  \\\n0      CABLE STREET  ... NaN    NaN                  NaN            NaN   \n1    CROWDER STREET  ... NaN    NaN                  NaN            NaN   \n2  SOLANDER GARDENS  ... NaN    NaN                  NaN            NaN   \n3  DEVONPORT STREET  ... NaN    NaN                  NaN            NaN   \n4   BOULCOTT STREET  ... NaN    NaN                  NaN            NaN   \n\n  Unnamed: 25 LONDON  TOWER HAMLETS  GREATER LONDON   A  \\\n0         NaN    NaN            NaN             NaN NaN   \n1         NaN    NaN            NaN             NaN NaN   \n2         NaN    NaN            NaN             NaN NaN   \n3         NaN    NaN            NaN             NaN NaN   \n4         NaN    NaN            NaN             NaN NaN   \n\n   http://landregistry.data.gov.uk/data/ppi/transaction/8A78B2AF-785C-5CB0-E053-6B04A8C0F504/current  \n0                                                NaN                                                  \n1                                                NaN                                                  \n2                                                NaN                                                  \n3                                                NaN                                                  \n4                                                NaN                                                  \n\n[5 rows x 31 columns]"
                    }, 
                    "execution_count": 3
                }
            ], 
            "metadata": {}
        }, 
        {
            "source": "# Check column names\ndf_ppd.columns", 
            "cell_type": "code", 
            "execution_count": 4, 
            "outputs": [
                {
                    "output_type": "execute_result", 
                    "metadata": {}, 
                    "data": {
                        "text/plain": "Index(['unique_id', 'price_paid', 'deed_date', 'postcode', 'property_type',\n       'new_build', 'estate_type', 'saon', 'paon', 'street', 'locality',\n       'town', 'district', 'county', 'transaction_category',\n       'linked_data_uri\"8A78B2AF-785C-5CB0-E053-6B04A8C0F504\"', '140000',\n       '2019-05-24', 'E1 0AD', 'F', 'N', 'L', 'FLAT 6', 'BILL FAUST HOUSE, 20',\n       'TARLING STREET', 'Unnamed: 25', 'LONDON', 'TOWER HAMLETS',\n       'GREATER LONDON', 'A',\n       'http://landregistry.data.gov.uk/data/ppi/transaction/8A78B2AF-785C-5CB0-E053-6B04A8C0F504/current'],\n      dtype='object')"
                    }, 
                    "execution_count": 4
                }
            ], 
            "metadata": {}
        }, 
        {
            "source": "# Assign meaningful column names\ndf_ppd.drop(columns=['linked_data_uri\"8A78B2AF-785C-5CB0-E053-6B04A8C0F504\"', '140000',\n       '2019-05-24', 'E1 0AD', 'F', 'N', 'L', 'FLAT 6', 'BILL FAUST HOUSE, 20',\n       'TARLING STREET', 'Unnamed: 25', 'LONDON', 'TOWER HAMLETS',\n       'GREATER LONDON', 'A',\n       'http://landregistry.data.gov.uk/data/ppi/transaction/8A78B2AF-785C-5CB0-E053-6B04A8C0F504/current'], inplace=True)\ndf_ppd.columns = ['TUID', 'Price', 'Date_Transfer', 'Postcode', 'Prop_Type', 'Old_New', 'Duration','SAON','PAON', 'Street', 'Locality', 'Town_City', 'District', 'County', 'PPD_Cat_Type']", 
            "cell_type": "code", 
            "execution_count": 5, 
            "outputs": [], 
            "metadata": {}
        }, 
        {
            "source": "# Format the date column\ndf_ppd['Date_Transfer'] = df_ppd['Date_Transfer'].apply(pd.to_datetime)\n\n# Delete all obsolete transactions which were done before 2016\ndf_ppd.drop(df_ppd[df_ppd.Date_Transfer.dt.year < 2016].index, inplace=True)\n\n# Sort by Date of Sale\ndf_ppd.sort_values(by=['Date_Transfer'],ascending=[False],inplace=True)", 
            "cell_type": "code", 
            "execution_count": 6, 
            "outputs": [], 
            "metadata": {}
        }, 
        {
            "source": "**Calcuate the street-wise average price of various properties**", 
            "cell_type": "markdown", 
            "metadata": {}
        }, 
        {
            "source": "df_grp_price = df_ppd.groupby(['Street'])['Price'].mean().reset_index()\n\n# Give meaningful names to the columns\ndf_grp_price.columns = ['Street', 'Avg_Price']", 
            "cell_type": "code", 
            "execution_count": 7, 
            "outputs": [], 
            "metadata": {}
        }, 
        {
            "source": "### With the buget limit given for purchasing a house...", 
            "cell_type": "markdown", 
            "metadata": {}
        }, 
        {
            "source": "**Find the locations df_grp_price which fits your budget**\n\n\n_Please change the limits as per your budget_", 
            "cell_type": "markdown", 
            "metadata": {}
        }, 
        {
            "source": "df_affordable = df_grp_price.query(\"(Avg_Price >= 2200000) & (Avg_Price <= 2500000)\")", 
            "cell_type": "code", 
            "execution_count": 8, 
            "outputs": [], 
            "metadata": {}
        }, 
        {
            "source": "# Display the dataframe\ndf_affordable", 
            "cell_type": "code", 
            "execution_count": 9, 
            "outputs": [
                {
                    "output_type": "execute_result", 
                    "metadata": {}, 
                    "data": {
                        "text/html": "<div>\n<style scoped>\n    .dataframe tbody tr th:only-of-type {\n        vertical-align: middle;\n    }\n\n    .dataframe tbody tr th {\n        vertical-align: top;\n    }\n\n    .dataframe thead th {\n        text-align: right;\n    }\n</style>\n<table border=\"1\" class=\"dataframe\">\n  <thead>\n    <tr style=\"text-align: right;\">\n      <th></th>\n      <th>Street</th>\n      <th>Avg_Price</th>\n    </tr>\n  </thead>\n  <tbody>\n    <tr>\n      <th>136</th>\n      <td>ALBION SQUARE</td>\n      <td>2.450000e+06</td>\n    </tr>\n    <tr>\n      <th>232</th>\n      <td>AMBROSDEN AVENUE</td>\n      <td>2.210000e+06</td>\n    </tr>\n    <tr>\n      <th>371</th>\n      <td>ASHCHURCH GROVE</td>\n      <td>2.425000e+06</td>\n    </tr>\n    <tr>\n      <th>499</th>\n      <td>BALCOMBE STREET</td>\n      <td>2.217500e+06</td>\n    </tr>\n    <tr>\n      <th>557</th>\n      <td>BARHAM ROAD</td>\n      <td>2.225000e+06</td>\n    </tr>\n    <tr>\n      <th>621</th>\n      <td>BATHGATE ROAD</td>\n      <td>2.300000e+06</td>\n    </tr>\n    <tr>\n      <th>658</th>\n      <td>BEAUFORT GARDENS</td>\n      <td>2.325000e+06</td>\n    </tr>\n    <tr>\n      <th>704</th>\n      <td>BEECHWOOD AVENUE</td>\n      <td>2.500000e+06</td>\n    </tr>\n    <tr>\n      <th>821</th>\n      <td>BETTERTON STREET</td>\n      <td>2.500000e+06</td>\n    </tr>\n    <tr>\n      <th>962</th>\n      <td>BOLSOVER STREET</td>\n      <td>2.422962e+06</td>\n    </tr>\n    <tr>\n      <th>1005</th>\n      <td>BOURDON STREET</td>\n      <td>2.200000e+06</td>\n    </tr>\n    <tr>\n      <th>1463</th>\n      <td>CALTON AVENUE</td>\n      <td>2.350000e+06</td>\n    </tr>\n    <tr>\n      <th>1490</th>\n      <td>CAMBRIDGE TERRACE</td>\n      <td>2.420000e+06</td>\n    </tr>\n    <tr>\n      <th>1497</th>\n      <td>CAMDEN SQUARE</td>\n      <td>2.430000e+06</td>\n    </tr>\n    <tr>\n      <th>1507</th>\n      <td>CAMPDEN STREET</td>\n      <td>2.300000e+06</td>\n    </tr>\n    <tr>\n      <th>1538</th>\n      <td>CANONBURY PARK SOUTH</td>\n      <td>2.470000e+06</td>\n    </tr>\n    <tr>\n      <th>1575</th>\n      <td>CARLTON GARDENS</td>\n      <td>2.500000e+06</td>\n    </tr>\n    <tr>\n      <th>1576</th>\n      <td>CARLTON HILL</td>\n      <td>2.361250e+06</td>\n    </tr>\n    <tr>\n      <th>1624</th>\n      <td>CASTLEHAVEN ROAD</td>\n      <td>2.281667e+06</td>\n    </tr>\n    <tr>\n      <th>1804</th>\n      <td>CHENISTON GARDENS</td>\n      <td>2.310000e+06</td>\n    </tr>\n    <tr>\n      <th>1992</th>\n      <td>CLEVELAND SQUARE</td>\n      <td>2.233333e+06</td>\n    </tr>\n    <tr>\n      <th>2012</th>\n      <td>CLIFTON STREET</td>\n      <td>2.200000e+06</td>\n    </tr>\n    <tr>\n      <th>2105</th>\n      <td>COLLINGHAM ROAD</td>\n      <td>2.477000e+06</td>\n    </tr>\n    <tr>\n      <th>2357</th>\n      <td>CREDITON HILL</td>\n      <td>2.265333e+06</td>\n    </tr>\n    <tr>\n      <th>2398</th>\n      <td>CROFTDOWN ROAD</td>\n      <td>2.500000e+06</td>\n    </tr>\n    <tr>\n      <th>2562</th>\n      <td>DARTMOUTH PARK ROAD</td>\n      <td>2.315000e+06</td>\n    </tr>\n    <tr>\n      <th>2631</th>\n      <td>DENMARK HILL</td>\n      <td>2.486875e+06</td>\n    </tr>\n    <tr>\n      <th>2660</th>\n      <td>DEVEREUX LANE</td>\n      <td>2.300000e+06</td>\n    </tr>\n    <tr>\n      <th>2667</th>\n      <td>DEVONSHIRE PLACE</td>\n      <td>2.335700e+06</td>\n    </tr>\n    <tr>\n      <th>2766</th>\n      <td>DOWNSIDE CRESCENT</td>\n      <td>2.338185e+06</td>\n    </tr>\n    <tr>\n      <th>...</th>\n      <td>...</td>\n      <td>...</td>\n    </tr>\n    <tr>\n      <th>6583</th>\n      <td>ONSLOW CRESCENT</td>\n      <td>2.400000e+06</td>\n    </tr>\n    <tr>\n      <th>6585</th>\n      <td>ONSLOW SQUARE</td>\n      <td>2.265099e+06</td>\n    </tr>\n    <tr>\n      <th>6682</th>\n      <td>PALACE GARDENS TERRACE</td>\n      <td>2.351667e+06</td>\n    </tr>\n    <tr>\n      <th>6724</th>\n      <td>PARK LANE</td>\n      <td>2.393500e+06</td>\n    </tr>\n    <tr>\n      <th>6780</th>\n      <td>PAVILION ROAD</td>\n      <td>2.400000e+06</td>\n    </tr>\n    <tr>\n      <th>6826</th>\n      <td>PEMBRIDGE CRESCENT</td>\n      <td>2.306750e+06</td>\n    </tr>\n    <tr>\n      <th>6912</th>\n      <td>PICTON STREET</td>\n      <td>2.350000e+06</td>\n    </tr>\n    <tr>\n      <th>6943</th>\n      <td>PLATTS LANE</td>\n      <td>2.385000e+06</td>\n    </tr>\n    <tr>\n      <th>7143</th>\n      <td>QUEEN ANNE STREET</td>\n      <td>2.441667e+06</td>\n    </tr>\n    <tr>\n      <th>7311</th>\n      <td>REDCLIFFE MEWS</td>\n      <td>2.415894e+06</td>\n    </tr>\n    <tr>\n      <th>7316</th>\n      <td>REDMANS ROAD</td>\n      <td>2.418333e+06</td>\n    </tr>\n    <tr>\n      <th>7332</th>\n      <td>REGENTS PARK ROAD</td>\n      <td>2.431167e+06</td>\n    </tr>\n    <tr>\n      <th>7394</th>\n      <td>RIDGWAY PLACE</td>\n      <td>2.395833e+06</td>\n    </tr>\n    <tr>\n      <th>7641</th>\n      <td>RYECROFT STREET</td>\n      <td>2.225000e+06</td>\n    </tr>\n    <tr>\n      <th>7983</th>\n      <td>SOUTH HILL PARK</td>\n      <td>2.225000e+06</td>\n    </tr>\n    <tr>\n      <th>8343</th>\n      <td>STRADELLA ROAD</td>\n      <td>2.359000e+06</td>\n    </tr>\n    <tr>\n      <th>8373</th>\n      <td>STREATHBOURNE ROAD</td>\n      <td>2.362500e+06</td>\n    </tr>\n    <tr>\n      <th>8501</th>\n      <td>SYDNEY STREET</td>\n      <td>2.348825e+06</td>\n    </tr>\n    <tr>\n      <th>8554</th>\n      <td>TEDWORTH SQUARE</td>\n      <td>2.200000e+06</td>\n    </tr>\n    <tr>\n      <th>8623</th>\n      <td>THE CRESCENT</td>\n      <td>2.215500e+06</td>\n    </tr>\n    <tr>\n      <th>8652</th>\n      <td>THE LITTLE BOLTONS</td>\n      <td>2.250000e+06</td>\n    </tr>\n    <tr>\n      <th>8655</th>\n      <td>THE MARLOWES</td>\n      <td>2.500000e+06</td>\n    </tr>\n    <tr>\n      <th>8815</th>\n      <td>TOTTERIDGE COMMON</td>\n      <td>2.200000e+06</td>\n    </tr>\n    <tr>\n      <th>9117</th>\n      <td>VIVIAN WAY</td>\n      <td>2.440000e+06</td>\n    </tr>\n    <tr>\n      <th>9286</th>\n      <td>WELL ROAD</td>\n      <td>2.445000e+06</td>\n    </tr>\n    <tr>\n      <th>9346</th>\n      <td>WEST SQUARE</td>\n      <td>2.300000e+06</td>\n    </tr>\n    <tr>\n      <th>9348</th>\n      <td>WEST TEMPLE SHEEN</td>\n      <td>2.467333e+06</td>\n    </tr>\n    <tr>\n      <th>9473</th>\n      <td>WHITTAKER STREET</td>\n      <td>2.250000e+06</td>\n    </tr>\n    <tr>\n      <th>9595</th>\n      <td>WISE LANE</td>\n      <td>2.300000e+06</td>\n    </tr>\n    <tr>\n      <th>9694</th>\n      <td>WOODYARD LANE</td>\n      <td>2.270000e+06</td>\n    </tr>\n  </tbody>\n</table>\n<p>95 rows \u00d7 2 columns</p>\n</div>", 
                        "text/plain": "                      Street     Avg_Price\n136            ALBION SQUARE  2.450000e+06\n232         AMBROSDEN AVENUE  2.210000e+06\n371          ASHCHURCH GROVE  2.425000e+06\n499          BALCOMBE STREET  2.217500e+06\n557              BARHAM ROAD  2.225000e+06\n621            BATHGATE ROAD  2.300000e+06\n658         BEAUFORT GARDENS  2.325000e+06\n704         BEECHWOOD AVENUE  2.500000e+06\n821         BETTERTON STREET  2.500000e+06\n962          BOLSOVER STREET  2.422962e+06\n1005          BOURDON STREET  2.200000e+06\n1463           CALTON AVENUE  2.350000e+06\n1490       CAMBRIDGE TERRACE  2.420000e+06\n1497           CAMDEN SQUARE  2.430000e+06\n1507          CAMPDEN STREET  2.300000e+06\n1538    CANONBURY PARK SOUTH  2.470000e+06\n1575         CARLTON GARDENS  2.500000e+06\n1576            CARLTON HILL  2.361250e+06\n1624        CASTLEHAVEN ROAD  2.281667e+06\n1804       CHENISTON GARDENS  2.310000e+06\n1992        CLEVELAND SQUARE  2.233333e+06\n2012          CLIFTON STREET  2.200000e+06\n2105         COLLINGHAM ROAD  2.477000e+06\n2357           CREDITON HILL  2.265333e+06\n2398          CROFTDOWN ROAD  2.500000e+06\n2562     DARTMOUTH PARK ROAD  2.315000e+06\n2631            DENMARK HILL  2.486875e+06\n2660           DEVEREUX LANE  2.300000e+06\n2667        DEVONSHIRE PLACE  2.335700e+06\n2766       DOWNSIDE CRESCENT  2.338185e+06\n...                      ...           ...\n6583         ONSLOW CRESCENT  2.400000e+06\n6585           ONSLOW SQUARE  2.265099e+06\n6682  PALACE GARDENS TERRACE  2.351667e+06\n6724               PARK LANE  2.393500e+06\n6780           PAVILION ROAD  2.400000e+06\n6826      PEMBRIDGE CRESCENT  2.306750e+06\n6912           PICTON STREET  2.350000e+06\n6943             PLATTS LANE  2.385000e+06\n7143       QUEEN ANNE STREET  2.441667e+06\n7311          REDCLIFFE MEWS  2.415894e+06\n7316            REDMANS ROAD  2.418333e+06\n7332       REGENTS PARK ROAD  2.431167e+06\n7394           RIDGWAY PLACE  2.395833e+06\n7641         RYECROFT STREET  2.225000e+06\n7983         SOUTH HILL PARK  2.225000e+06\n8343          STRADELLA ROAD  2.359000e+06\n8373      STREATHBOURNE ROAD  2.362500e+06\n8501           SYDNEY STREET  2.348825e+06\n8554         TEDWORTH SQUARE  2.200000e+06\n8623            THE CRESCENT  2.215500e+06\n8652      THE LITTLE BOLTONS  2.250000e+06\n8655            THE MARLOWES  2.500000e+06\n8815       TOTTERIDGE COMMON  2.200000e+06\n9117              VIVIAN WAY  2.440000e+06\n9286               WELL ROAD  2.445000e+06\n9346             WEST SQUARE  2.300000e+06\n9348       WEST TEMPLE SHEEN  2.467333e+06\n9473        WHITTAKER STREET  2.250000e+06\n9595               WISE LANE  2.300000e+06\n9694           WOODYARD LANE  2.270000e+06\n\n[95 rows x 2 columns]"
                    }, 
                    "execution_count": 9
                }
            ], 
            "metadata": {}
        }, 
        {
            "source": "## Read the street-wise coordinates into a dataframe", 
            "cell_type": "markdown", 
            "metadata": {}
        }, 
        {
            "source": "body = client_ebbc1554a11144158122a412ce1905fc.get_object(Bucket='courseracapstone-donotdelete-pr-0akotni5ciarwz',Key='Street Coordinates London.csv')['Body']\n# add missing __iter__ method, so pandas accepts body as file-like object\nif not hasattr(body, \"__iter__\"): body.__iter__ = types.MethodType( __iter__, body )\n\nlondon_data = pd.read_csv(body)\nlondon_data.head()", 
            "cell_type": "code", 
            "execution_count": 10, 
            "outputs": [
                {
                    "output_type": "execute_result", 
                    "metadata": {}, 
                    "data": {
                        "text/html": "<div>\n<style scoped>\n    .dataframe tbody tr th:only-of-type {\n        vertical-align: middle;\n    }\n\n    .dataframe tbody tr th {\n        vertical-align: top;\n    }\n\n    .dataframe thead th {\n        text-align: right;\n    }\n</style>\n<table border=\"1\" class=\"dataframe\">\n  <thead>\n    <tr style=\"text-align: right;\">\n      <th></th>\n      <th>ID</th>\n      <th>Street</th>\n      <th>Latitude</th>\n      <th>Longitude</th>\n      <th>Unnamed: 4</th>\n    </tr>\n  </thead>\n  <tbody>\n    <tr>\n      <th>0</th>\n      <td>136</td>\n      <td>ALBION SQUARE</td>\n      <td>51.540723</td>\n      <td>-0.07212</td>\n      <td>NaN</td>\n    </tr>\n    <tr>\n      <th>1</th>\n      <td>232</td>\n      <td>AMBROSDEN AVENUE</td>\n      <td>51.496063</td>\n      <td>-0.138763</td>\n      <td>NaN</td>\n    </tr>\n    <tr>\n      <th>2</th>\n      <td>371</td>\n      <td>ASHCHURCH GROVE</td>\n      <td>51.500699</td>\n      <td>-0.241592</td>\n      <td>NaN</td>\n    </tr>\n    <tr>\n      <th>3</th>\n      <td>499</td>\n      <td>BALCOMBE STREET</td>\n      <td>51.523221</td>\n      <td>-0.161897</td>\n      <td>NaN</td>\n    </tr>\n    <tr>\n      <th>4</th>\n      <td>557</td>\n      <td>BARHAM ROAD</td>\n      <td>51.423735</td>\n      <td>0.063186148477775</td>\n      <td>NaN</td>\n    </tr>\n  </tbody>\n</table>\n</div>", 
                        "text/plain": "    ID            Street   Latitude          Longitude  Unnamed: 4\n0  136     ALBION SQUARE  51.540723           -0.07212         NaN\n1  232  AMBROSDEN AVENUE  51.496063          -0.138763         NaN\n2  371   ASHCHURCH GROVE  51.500699          -0.241592         NaN\n3  499   BALCOMBE STREET  51.523221          -0.161897         NaN\n4  557       BARHAM ROAD  51.423735  0.063186148477775         NaN"
                    }, 
                    "execution_count": 10
                }
            ], 
            "metadata": {}
        }, 
        {
            "source": "# Eliminate recurring word LONDON from individual names\nlondon_data['Street'] = london_data['Street'].str.replace(', LONDON', '')", 
            "cell_type": "code", 
            "execution_count": 11, 
            "outputs": [], 
            "metadata": {}
        }, 
        {
            "source": "**Join the data to find the coordinates of locations which fit into client's budget**", 
            "cell_type": "markdown", 
            "metadata": {}
        }, 
        {
            "source": "df_pref_loc = pd.merge(london_data, df_affordable, on=['Street'], how='inner')\ndf_pref_loc.drop(columns=['Unnamed: 4'], inplace=True)\ndf_pref_loc.head()", 
            "cell_type": "code", 
            "execution_count": 12, 
            "outputs": [
                {
                    "output_type": "execute_result", 
                    "metadata": {}, 
                    "data": {
                        "text/html": "<div>\n<style scoped>\n    .dataframe tbody tr th:only-of-type {\n        vertical-align: middle;\n    }\n\n    .dataframe tbody tr th {\n        vertical-align: top;\n    }\n\n    .dataframe thead th {\n        text-align: right;\n    }\n</style>\n<table border=\"1\" class=\"dataframe\">\n  <thead>\n    <tr style=\"text-align: right;\">\n      <th></th>\n      <th>ID</th>\n      <th>Street</th>\n      <th>Latitude</th>\n      <th>Longitude</th>\n      <th>Avg_Price</th>\n    </tr>\n  </thead>\n  <tbody>\n    <tr>\n      <th>0</th>\n      <td>136</td>\n      <td>ALBION SQUARE</td>\n      <td>51.540723</td>\n      <td>-0.07212</td>\n      <td>2450000.0</td>\n    </tr>\n    <tr>\n      <th>1</th>\n      <td>232</td>\n      <td>AMBROSDEN AVENUE</td>\n      <td>51.496063</td>\n      <td>-0.138763</td>\n      <td>2210000.0</td>\n    </tr>\n    <tr>\n      <th>2</th>\n      <td>371</td>\n      <td>ASHCHURCH GROVE</td>\n      <td>51.500699</td>\n      <td>-0.241592</td>\n      <td>2425000.0</td>\n    </tr>\n    <tr>\n      <th>3</th>\n      <td>499</td>\n      <td>BALCOMBE STREET</td>\n      <td>51.523221</td>\n      <td>-0.161897</td>\n      <td>2217500.0</td>\n    </tr>\n    <tr>\n      <th>4</th>\n      <td>557</td>\n      <td>BARHAM ROAD</td>\n      <td>51.423735</td>\n      <td>0.063186148477775</td>\n      <td>2225000.0</td>\n    </tr>\n  </tbody>\n</table>\n</div>", 
                        "text/plain": "    ID            Street   Latitude          Longitude  Avg_Price\n0  136     ALBION SQUARE  51.540723           -0.07212  2450000.0\n1  232  AMBROSDEN AVENUE  51.496063          -0.138763  2210000.0\n2  371   ASHCHURCH GROVE  51.500699          -0.241592  2425000.0\n3  499   BALCOMBE STREET  51.523221          -0.161897  2217500.0\n4  557       BARHAM ROAD  51.423735  0.063186148477775  2225000.0"
                    }, 
                    "execution_count": 12
                }
            ], 
            "metadata": {}
        }, 
        {
            "source": "## Plot recommended locations on map of London with current market prices", 
            "cell_type": "markdown", 
            "metadata": {}
        }, 
        {
            "source": "address = 'London, UK'\n\ngeolocator = Nominatim()\nlocation = geolocator.geocode(address)\nlatitude = location.latitude\nlongitude = location.longitude\nprint('The geograpical coordinate of London City are {}, {}.'.format(latitude, longitude))", 
            "cell_type": "code", 
            "execution_count": 13, 
            "outputs": [
                {
                    "output_type": "stream", 
                    "name": "stdout", 
                    "text": "The geograpical coordinate of London City are 51.4893335, -0.144055084527687.\n"
                }, 
                {
                    "output_type": "stream", 
                    "name": "stderr", 
                    "text": "/opt/conda/envs/Python36/lib/python3.6/site-packages/ipykernel/__main__.py:3: DeprecationWarning: Using Nominatim with the default \"geopy/1.18.1\" `user_agent` is strongly discouraged, as it violates Nominatim's ToS https://operations.osmfoundation.org/policies/nominatim/ and may possibly cause 403 and 429 HTTP errors. Please specify a custom `user_agent` with `Nominatim(user_agent=\"my-application\")` or by overriding the default `user_agent`: `geopy.geocoders.options.default_user_agent = \"my-application\"`. In geopy 2.0 this will become an exception.\n  app.launch_new_instance()\n"
                }
            ], 
            "metadata": {}
        }, 
        {
            "source": "# create map of london using latitude and longitude values\nmap_london = folium.Map(location=[latitude, longitude], zoom_start=11)\n\n# add markers to map\n\n'''for lat, lng, price, street in zip(df_pref_loc['Latitude'], df_pref_loc['Longitude'], df_pref_loc['Avg_Price'], df_pref_loc['Street']):\n    label = '{}, {}'.format(street, price)\n    label = folium.Popup(label, parse_html=True)\n    folium.CircleMarker(\n        [lat, lng],\n        radius=5,\n        popup=label,\n        color='blue',\n        fill=True,\n        fill_color='#3186cc',\n        fill_opacity=0.7,\n        parse_html=False).add_to(map_london)  '''\n\nmap_london", 
            "cell_type": "code", 
            "execution_count": 16, 
            "outputs": [
                {
                    "output_type": "execute_result", 
                    "metadata": {}, 
                    "data": {
                        "text/html": "<div style=\"width:100%;\"><div style=\"position:relative;width:100%;height:0;padding-bottom:60%;\"><iframe src=\"data:text/html;charset=utf-8;base64,PCFET0NUWVBFIGh0bWw+CjxoZWFkPiAgICAKICAgIDxtZXRhIGh0dHAtZXF1aXY9ImNvbnRlbnQtdHlwZSIgY29udGVudD0idGV4dC9odG1sOyBjaGFyc2V0PVVURi04IiAvPgogICAgCiAgICAgICAgPHNjcmlwdD4KICAgICAgICAgICAgTF9OT19UT1VDSCA9IGZhbHNlOwogICAgICAgICAgICBMX0RJU0FCTEVfM0QgPSBmYWxzZTsKICAgICAgICA8L3NjcmlwdD4KICAgIAogICAgPHNjcmlwdCBzcmM9Imh0dHBzOi8vY2RuLmpzZGVsaXZyLm5ldC9ucG0vbGVhZmxldEAxLjUuMS9kaXN0L2xlYWZsZXQuanMiPjwvc2NyaXB0PgogICAgPHNjcmlwdCBzcmM9Imh0dHBzOi8vY29kZS5qcXVlcnkuY29tL2pxdWVyeS0xLjEyLjQubWluLmpzIj48L3NjcmlwdD4KICAgIDxzY3JpcHQgc3JjPSJodHRwczovL21heGNkbi5ib290c3RyYXBjZG4uY29tL2Jvb3RzdHJhcC8zLjIuMC9qcy9ib290c3RyYXAubWluLmpzIj48L3NjcmlwdD4KICAgIDxzY3JpcHQgc3JjPSJodHRwczovL2NkbmpzLmNsb3VkZmxhcmUuY29tL2FqYXgvbGlicy9MZWFmbGV0LmF3ZXNvbWUtbWFya2Vycy8yLjAuMi9sZWFmbGV0LmF3ZXNvbWUtbWFya2Vycy5qcyI+PC9zY3JpcHQ+CiAgICA8bGluayByZWw9InN0eWxlc2hlZXQiIGhyZWY9Imh0dHBzOi8vY2RuLmpzZGVsaXZyLm5ldC9ucG0vbGVhZmxldEAxLjUuMS9kaXN0L2xlYWZsZXQuY3NzIi8+CiAgICA8bGluayByZWw9InN0eWxlc2hlZXQiIGhyZWY9Imh0dHBzOi8vbWF4Y2RuLmJvb3RzdHJhcGNkbi5jb20vYm9vdHN0cmFwLzMuMi4wL2Nzcy9ib290c3RyYXAubWluLmNzcyIvPgogICAgPGxpbmsgcmVsPSJzdHlsZXNoZWV0IiBocmVmPSJodHRwczovL21heGNkbi5ib290c3RyYXBjZG4uY29tL2Jvb3RzdHJhcC8zLjIuMC9jc3MvYm9vdHN0cmFwLXRoZW1lLm1pbi5jc3MiLz4KICAgIDxsaW5rIHJlbD0ic3R5bGVzaGVldCIgaHJlZj0iaHR0cHM6Ly9tYXhjZG4uYm9vdHN0cmFwY2RuLmNvbS9mb250LWF3ZXNvbWUvNC42LjMvY3NzL2ZvbnQtYXdlc29tZS5taW4uY3NzIi8+CiAgICA8bGluayByZWw9InN0eWxlc2hlZXQiIGhyZWY9Imh0dHBzOi8vY2RuanMuY2xvdWRmbGFyZS5jb20vYWpheC9saWJzL0xlYWZsZXQuYXdlc29tZS1tYXJrZXJzLzIuMC4yL2xlYWZsZXQuYXdlc29tZS1tYXJrZXJzLmNzcyIvPgogICAgPGxpbmsgcmVsPSJzdHlsZXNoZWV0IiBocmVmPSJodHRwczovL3Jhd2Nkbi5naXRoYWNrLmNvbS9weXRob24tdmlzdWFsaXphdGlvbi9mb2xpdW0vbWFzdGVyL2ZvbGl1bS90ZW1wbGF0ZXMvbGVhZmxldC5hd2Vzb21lLnJvdGF0ZS5jc3MiLz4KICAgIDxzdHlsZT5odG1sLCBib2R5IHt3aWR0aDogMTAwJTtoZWlnaHQ6IDEwMCU7bWFyZ2luOiAwO3BhZGRpbmc6IDA7fTwvc3R5bGU+CiAgICA8c3R5bGU+I21hcCB7cG9zaXRpb246YWJzb2x1dGU7dG9wOjA7Ym90dG9tOjA7cmlnaHQ6MDtsZWZ0OjA7fTwvc3R5bGU+CiAgICAKICAgICAgICAgICAgPG1ldGEgbmFtZT0idmlld3BvcnQiIGNvbnRlbnQ9IndpZHRoPWRldmljZS13aWR0aCwKICAgICAgICAgICAgICAgIGluaXRpYWwtc2NhbGU9MS4wLCBtYXhpbXVtLXNjYWxlPTEuMCwgdXNlci1zY2FsYWJsZT1ubyIgLz4KICAgICAgICAgICAgPHN0eWxlPgogICAgICAgICAgICAgICAgI21hcF84MDM4YjI4YmQwNDM0YWFkOGQ1NGRiYTQ2NDliM2RiOSB7CiAgICAgICAgICAgICAgICAgICAgcG9zaXRpb246IHJlbGF0aXZlOwogICAgICAgICAgICAgICAgICAgIHdpZHRoOiAxMDAuMCU7CiAgICAgICAgICAgICAgICAgICAgaGVpZ2h0OiAxMDAuMCU7CiAgICAgICAgICAgICAgICAgICAgbGVmdDogMC4wJTsKICAgICAgICAgICAgICAgICAgICB0b3A6IDAuMCU7CiAgICAgICAgICAgICAgICB9CiAgICAgICAgICAgIDwvc3R5bGU+CiAgICAgICAgCjwvaGVhZD4KPGJvZHk+ICAgIAogICAgCiAgICAgICAgICAgIDxkaXYgY2xhc3M9ImZvbGl1bS1tYXAiIGlkPSJtYXBfODAzOGIyOGJkMDQzNGFhZDhkNTRkYmE0NjQ5YjNkYjkiID48L2Rpdj4KICAgICAgICAKPC9ib2R5Pgo8c2NyaXB0PiAgICAKICAgIAogICAgICAgICAgICB2YXIgbWFwXzgwMzhiMjhiZDA0MzRhYWQ4ZDU0ZGJhNDY0OWIzZGI5ID0gTC5tYXAoCiAgICAgICAgICAgICAgICAibWFwXzgwMzhiMjhiZDA0MzRhYWQ4ZDU0ZGJhNDY0OWIzZGI5IiwKICAgICAgICAgICAgICAgIHsKICAgICAgICAgICAgICAgICAgICBjZW50ZXI6IFs1MS40ODkzMzM1LCAtMC4xNDQwNTUwODQ1Mjc2ODddLAogICAgICAgICAgICAgICAgICAgIGNyczogTC5DUlMuRVBTRzM4NTcsCiAgICAgICAgICAgICAgICAgICAgem9vbTogMTEsCiAgICAgICAgICAgICAgICAgICAgem9vbUNvbnRyb2w6IHRydWUsCiAgICAgICAgICAgICAgICAgICAgcHJlZmVyQ2FudmFzOiBmYWxzZSwKICAgICAgICAgICAgICAgIH0KICAgICAgICAgICAgKTsKCiAgICAgICAgICAgIAoKICAgICAgICAKICAgIAogICAgICAgICAgICB2YXIgdGlsZV9sYXllcl8wYTI3NjJmYTg5Mzg0NzU2YjVjZDg3ZjExYmE4OGMxYSA9IEwudGlsZUxheWVyKAogICAgICAgICAgICAgICAgImh0dHBzOi8ve3N9LnRpbGUub3BlbnN0cmVldG1hcC5vcmcve3p9L3t4fS97eX0ucG5nIiwKICAgICAgICAgICAgICAgIHsiYXR0cmlidXRpb24iOiAiRGF0YSBieSBcdTAwMjZjb3B5OyBcdTAwM2NhIGhyZWY9XCJodHRwOi8vb3BlbnN0cmVldG1hcC5vcmdcIlx1MDAzZU9wZW5TdHJlZXRNYXBcdTAwM2MvYVx1MDAzZSwgdW5kZXIgXHUwMDNjYSBocmVmPVwiaHR0cDovL3d3dy5vcGVuc3RyZWV0bWFwLm9yZy9jb3B5cmlnaHRcIlx1MDAzZU9EYkxcdTAwM2MvYVx1MDAzZS4iLCAiZGV0ZWN0UmV0aW5hIjogZmFsc2UsICJtYXhOYXRpdmVab29tIjogMTgsICJtYXhab29tIjogMTgsICJtaW5ab29tIjogMCwgIm5vV3JhcCI6IGZhbHNlLCAib3BhY2l0eSI6IDEsICJzdWJkb21haW5zIjogImFiYyIsICJ0bXMiOiBmYWxzZX0KICAgICAgICAgICAgKS5hZGRUbyhtYXBfODAzOGIyOGJkMDQzNGFhZDhkNTRkYmE0NjQ5YjNkYjkpOwogICAgICAgIAo8L3NjcmlwdD4=\" style=\"position:absolute;width:100%;height:100%;left:0;top:0;border:none !important;\" allowfullscreen webkitallowfullscreen mozallowfullscreen></iframe></div></div>", 
                        "text/plain": "<folium.folium.Map at 0x7fc7dd2026a0>"
                    }, 
                    "execution_count": 16
                }
            ], 
            "metadata": {}
        }, 
        {
            "source": "CLIENT_ID = '4IFTJO5GDDJSGFD11ZSRL3EYNPXKLTNH0VB3INRNVARVWBR4' # your Foursquare ID\nCLIENT_SECRET = 'TRFF5K5BL3TABXJRZKRSHN3X0BV4UGJE35DTIDDYZYU34AKE' # your Foursquare Secret\nVERSION = '20180605' # Foursquare API version\n\nprint('Your credentails:')\nprint('CLIENT_ID: ' + CLIENT_ID)\nprint('CLIENT_SECRET:' + CLIENT_SECRET)", 
            "cell_type": "code", 
            "execution_count": null, 
            "outputs": [], 
            "metadata": {}
        }, 
        {
            "source": "Let's explore the first neighborhood in our dataframe.", 
            "cell_type": "markdown", 
            "metadata": {}
        }, 
        {
            "source": "## Explore the preferred location for different venues", 
            "cell_type": "markdown", 
            "metadata": {}
        }, 
        {
            "source": "def getNearbyVenues(names, latitudes, longitudes, radius=500, LIMIT=100):\n    \n    venues_list=[]\n    for name, lat, lng in zip(names, latitudes, longitudes):\n        print(name)\n            \n        # create the API request URL\n        url = 'https://api.foursquare.com/v2/venues/explore?&client_id={}&client_secret={}&v={}&ll={},{}&radius={}&limit={}'.format(\n            CLIENT_ID, \n            CLIENT_SECRET, \n            VERSION, \n            lat, \n            lng, \n            radius, \n            LIMIT)\n            \n        # make the GET request\n        results = requests.get(url).json()[\"response\"]['groups'][0]['items']\n        \n        # return only relevant information for each nearby venue\n        venues_list.append([(\n            name, \n            lat, \n            lng, \n            v['venue']['name'], \n            v['venue']['location']['lat'], \n            v['venue']['location']['lng'],  \n            v['venue']['categories'][0]['name']) for v in results])\n\n    nearby_venues = pd.DataFrame([item for venue_list in venues_list for item in venue_list])\n    nearby_venues.columns = ['Street', \n                  'Street Latitude', \n                  'Street Longitude', \n                  'Venue', \n                  'Venue Latitude', \n                  'Venue Longitude', \n                  'Venue Category']\n    \n    return(nearby_venues)", 
            "cell_type": "code", 
            "execution_count": null, 
            "outputs": [], 
            "metadata": {}
        }, 
        {
            "source": "Now write the code to run the above function on each location and create a new dataframe called location_venues and display it.", 
            "cell_type": "markdown", 
            "metadata": {}
        }, 
        {
            "source": "# type your answer here\nlocation_venues = getNearbyVenues(names=df_pref_loc['Street'],\n                                   latitudes=df_pref_loc['Latitude'],\n                                   longitudes=df_pref_loc['Longitude']\n                                  )", 
            "cell_type": "code", 
            "execution_count": null, 
            "outputs": [], 
            "metadata": {}
        }, 
        {
            "source": "location_venues", 
            "cell_type": "code", 
            "execution_count": null, 
            "outputs": [], 
            "metadata": {}
        }, 
        {
            "source": "location_venues.groupby('Street').count()", 
            "cell_type": "code", 
            "execution_count": null, 
            "outputs": [], 
            "metadata": {}
        }, 
        {
            "source": "def getNearbyFacility(names, latitudes, longitudes, radius=5000):\n    \n    facility_list=[]\n    \n    radius = 5000\n    LIMIT = 100\n    categories = '4bf58dd8d48988d196941735,58daa1558bbb0b01f18ec1f7,4bf58dd8d48988d13d941735,4f4533804b9074f6e4fb0105,4bf58dd8d48988d118951735'\n    \n    for name, lat, lng in zip(names, latitudes, longitudes):\n        print(name)\n            \n        # create the API request URL\n        url = 'https://api.foursquare.com/v2/venues/search?&categoryId={}&client_id={}&client_secret={}&v={}&ll={},{}&radius={}&limit={}'.format(\n        categories,\n        CLIENT_ID, \n        CLIENT_SECRET, \n        VERSION, \n        lat, \n        lng, \n        radius, \n        LIMIT)\n\n        # make the GET request\n        results = requests.get(url).json()['response']\n\n        # return only relevant information for each nearby venue\n        facility_list.append([(\n            name,\n            facility['name'],\n            facility['categories'][0]['name'],\n            facility['location']['distance'], \n            facility['location']['lat'],\n            facility['location']['lng']) for facility in results['venues']])\n\n    nearby_facility = pd.DataFrame([item for f_list in facility_list for item in f_list])\n    nearby_facility.columns = ['Street Name',\n                  'Facility Name',             \n                  'Facility Category', \n                  'Distance', \n                  'Facility Latitude', \n                  'Facility Longitude']\n    \n    return(nearby_facility)", 
            "cell_type": "code", 
            "execution_count": null, 
            "outputs": [], 
            "metadata": {}
        }, 
        {
            "source": "location_facility = getNearbyFacility(names=df_pref_loc['Street'],\n                                      latitudes=df_pref_loc['Latitude'],\n                                      longitudes=df_pref_loc['Longitude']\n                                  )", 
            "cell_type": "code", 
            "execution_count": null, 
            "outputs": [], 
            "metadata": {}
        }, 
        {
            "source": "location_facility", 
            "cell_type": "code", 
            "execution_count": null, 
            "outputs": [], 
            "metadata": {}
        }, 
        {
            "source": "location_facility.groupby('Street Name').count()", 
            "cell_type": "code", 
            "execution_count": null, 
            "outputs": [], 
            "metadata": {}
        }, 
        {
            "source": "## Discussion\nBased upon the findings in the results section, the user can take a conscious decision about choosing a street/ location based upon his/ her requirements.\nThe results section enlists 39 places where a prospective client can buy a property based upon his needs and choices. Such choices would be affected by the venues and facilities which are close to the property which match against his familial needs.\nFew possible cases are: -\n1. A prospective client with elders in the family would be inclined to choose a location where hospitals and grocery stores are located in close proximity.\n2. A prospective client with kids in the family would choose a location where elementary and high schools are close-by. He would also like to choose a place with parks and other venues to accommodate his family are in the close vicinity.\n3. A bachelor would be inclined to choose a property which has pubs, bars, entertainment places close to the property.", 
            "cell_type": "markdown", 
            "metadata": {}
        }, 
        {
            "source": "## Conclusion\nThe decision of a buyer is influenced by the familial needs, personal biases. So, based upon the findings summarized in the results and discussion sections, following conclusions can be made: -\n1. While making recommendations to a prospective client, it is imperative to know his/ her immediate needs and requirements besides the budget. This would help to catch his/ her attention.\n2. Knowledge about the most recent market prices can be very helpful for the client and can help him take a decision.", 
            "cell_type": "markdown", 
            "metadata": {}
        }
    ], 
    "nbformat": 4, 
    "metadata": {
        "kernelspec": {
            "display_name": "Python 3.6", 
            "name": "python3", 
            "language": "python"
        }, 
        "language_info": {
            "mimetype": "text/x-python", 
            "nbconvert_exporter": "python", 
            "version": "3.6.8", 
            "name": "python", 
            "pygments_lexer": "ipython3", 
            "file_extension": ".py", 
            "codemirror_mode": {
                "version": 3, 
                "name": "ipython"
            }
        }
    }
}
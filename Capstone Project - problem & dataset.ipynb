{
    "nbformat_minor": 1, 
    "cells": [
        {
            "source": "# Segmenting and Clustering Neighborhoods in London\n", 
            "cell_type": "markdown", 
            "metadata": {
                "collapsed": true
            }
        }, 
        {
            "source": "## Applied Data Science Capstone - semi-finished report\nby R. Shen on 9 Sept., 2019", 
            "cell_type": "markdown", 
            "metadata": {}
        }, 
        {
            "source": "## Introduction to the opportunity", 
            "cell_type": "markdown", 
            "metadata": {}
        }, 
        {
            "execution_count": 1, 
            "cell_type": "code", 
            "metadata": {}, 
            "outputs": [
                {
                    "execution_count": 1, 
                    "metadata": {}, 
                    "data": {
                        "text/html": "<img src=\"https://images.unsplash.com/photo-1505761671935-60b3a7427bad?ixlib=rb-1.2.1&ixid=eyJhcHBfaWQiOjEyMDd9&w=1000&q=80\"/>", 
                        "text/plain": "<IPython.core.display.Image object>"
                    }, 
                    "output_type": "execute_result"
                }
            ], 
            "source": "from IPython.display import Image\nfrom IPython.core.display import HTML \nImage(url= \"https://images.unsplash.com/photo-1505761671935-60b3a7427bad?ixlib=rb-1.2.1&ixid=eyJhcHBfaWQiOjEyMDd9&w=1000&q=80\")"
        }, 
        {
            "source": "People of all kinds from around the world flock to London, UK with some of these them aspiring to make this remarkable place a home of their own. With varying budgets and needs, people find it very hard to find a suitable place and neighborhood to accommodate them and their families. Due to high cost of living and other multiple issues, London housing has been struggling. With the inevitable Brexit, the problem has further compounded. A potential client aspiring to buy a suitable property would like to become knowledgeable about the ongoing pricing to make a concious decision. Further, he/ she would like to consider several factors like proximity to schools, medical care, restaurants to accommodate his/ her familial needs.\n\nWith government provided authentic data on London properties coupled with data science techniques, one can make derive the useful information about current pricing in different localities of London while considering other factors of his choice. This would help the potential client to make an informed decision about buying a suitable property. \n", 
            "cell_type": "markdown", 
            "metadata": {}
        }, 
        {
            "source": "There will be a group of potential investors and clients seeking to purchase an appropriate property in London however are highly skeptical due to a lack of knowledge of the volatile market conditions as well as the potential impact of Brexit, especially in a no-deal scenario.", 
            "cell_type": "markdown", 
            "metadata": {}
        }, 
        {
            "source": "The stakeholders include HM Government, Property sellers, Clients / investors and real estate agents.", 
            "cell_type": "markdown", 
            "metadata": {}
        }, 
        {
            "source": "## Datasets used", 
            "cell_type": "markdown", 
            "metadata": {}
        }, 
        {
            "source": "- HM Land Registry: Price paid data \n    - _Open Data published by Government of UK_\n    - Price Paid Data includes information on all property sales in England and Wales that are sold for full market value and are lodged with us for registration.\n    - The dataset includes the transactions received at HM Land Registry in the lastest period\n    - This dataset was downloaded and later hosted on https://labs.cognitiveclass.ai/ for ease of use.\n\n- Google Maps Geocoding API  \n    - _Google Cloud Platform/ Google Maps_\n    - Location coordinates obtained by Gmaps API calls.\n    - Location Information obtained from Price Paid Dataset is used to obtain the location coordinates from Google Maps.\n    - A separate Python script has been developed to extract the unique street names, district names from the Price Paid Dataset and embed those in the GMaps API calls to obtain the required information.\n- Foursquare location data  \n    - _Foursquare location data_\n    - Location coordinates obtained by Foursquare API calls.\n    - To determine the proximity of various amenities as per the client\u2019s requirement, Foursquare location data is used.\n", 
            "cell_type": "markdown", 
            "metadata": {}
        }, 
        {
            "source": "## Methodology\n1. **Loading each data set**\n2. **Examine the price paid by neighbourhood**\n3. **Study the property types and then pivot analysis by neighbourhood**\n4. **Understand correlation between various parameters**\n5. **Perform k-means statisical analysis on venues by locations of interest based on findings from prices and neighbourhood**\n6. **Determine which venues are most common statistically in the region of greatest investment value then in all other locations of interest.**\n7. **Determine if an area, would worth investment**", 
            "cell_type": "markdown", 
            "metadata": {}
        }, 
        {
            "execution_count": null, 
            "cell_type": "code", 
            "metadata": {}, 
            "outputs": [], 
            "source": ""
        }, 
        {
            "execution_count": null, 
            "cell_type": "code", 
            "metadata": {}, 
            "outputs": [], 
            "source": ""
        }
    ], 
    "metadata": {
        "kernelspec": {
            "display_name": "Python 3.6", 
            "name": "python3", 
            "language": "python"
        }, 
        "language_info": {
            "mimetype": "text/x-python", 
            "nbconvert_exporter": "python", 
            "version": "3.6.8", 
            "name": "python", 
            "file_extension": ".py", 
            "pygments_lexer": "ipython3", 
            "codemirror_mode": {
                "version": 3, 
                "name": "ipython"
            }
        }
    }, 
    "nbformat": 4
}